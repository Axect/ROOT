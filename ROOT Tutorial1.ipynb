{
 "cells": [
  {
   "cell_type": "markdown",
   "metadata": {},
   "source": [
    "# ROOT Tutorial"
   ]
  },
  {
   "cell_type": "markdown",
   "metadata": {},
   "source": [
    "## 2.3.3 Classes, Methods and Constructors"
   ]
  },
  {
   "cell_type": "code",
   "execution_count": 1,
   "metadata": {},
   "outputs": [
    {
     "name": "stdout",
     "output_type": "stream",
     "text": [
      "(TF1 &) Name: func1 Title: sin(x)/x\n"
     ]
    }
   ],
   "source": [
    "TF1 f1(\"func1\", \"sin(x)/x\", 0, 10)"
   ]
  },
  {
   "cell_type": "code",
   "execution_count": 2,
   "metadata": {},
   "outputs": [
    {
     "name": "stdout",
     "output_type": "stream",
     "text": [
      "(double) 0.047040003\n"
     ]
    }
   ],
   "source": [
    "f1.Eval(3)"
   ]
  },
  {
   "cell_type": "code",
   "execution_count": 3,
   "metadata": {},
   "outputs": [
    {
     "name": "stdout",
     "output_type": "stream",
     "text": [
      "(double) -0.34567750\n"
     ]
    }
   ],
   "source": [
    "f1.Derivative(3)"
   ]
  },
  {
   "cell_type": "code",
   "execution_count": 4,
   "metadata": {},
   "outputs": [
    {
     "name": "stdout",
     "output_type": "stream",
     "text": [
      "(double) 1.8486525\n"
     ]
    }
   ],
   "source": [
    "f1.Integral(0, 3)"
   ]
  },
  {
   "cell_type": "code",
   "execution_count": 5,
   "metadata": {},
   "outputs": [
    {
     "data": {
      "image/png": "[encoded data removed]",
      "text/plain": [
       "<IPython.core.display.Image object>"
      ]
     },
     "metadata": {},
     "output_type": "display_data"
    }
   ],
   "source": [
    "TCanvas c1;\n",
    "f1.Draw();\n",
    "c1.Draw();"
   ]
  },
  {
   "cell_type": "markdown",
   "metadata": {},
   "source": [
    "## 2.3.5 Building a Multi-Pad Canvas"
   ]
  },
  {
   "cell_type": "code",
   "execution_count": 6,
   "metadata": {},
   "outputs": [
    {
     "name": "stdout",
     "output_type": "stream",
     "text": [
      "(TCanvas *) 0x7f799432fb10\n"
     ]
    }
   ],
   "source": [
    "TCanvas *myC = new TCanvas(\"myC\", \"Test canvas\", 1)"
   ]
  },
  {
   "cell_type": "code",
   "execution_count": 7,
   "metadata": {},
   "outputs": [],
   "source": [
    "TF1 f2(\"func2\", \"cos(x)/x\", 0, 10);\n",
    "TF1 f3(\"func3\", \"log(x)/x\", 0, 10);\n",
    "TF1 f4(\"func4\", \"exp(x)/x\", 0, 10);"
   ]
  },
  {
   "cell_type": "code",
   "execution_count": 8,
   "metadata": {},
   "outputs": [
    {
     "data": {
      "image/png": "[encoded data removed]",
      "text/plain": [
       "<IPython.core.display.Image object>"
      ]
     },
     "metadata": {},
     "output_type": "display_data"
    }
   ],
   "source": [
    "myC->Divide(2,2);\n",
    "myC->cd(1); f1.Draw();\n",
    "myC->cd(2); f2.Draw();\n",
    "myC->cd(3); f3.Draw();\n",
    "myC->cd(4); f4.Draw();\n",
    "myC->Draw();"
   ]
  },
  {
   "cell_type": "markdown",
   "metadata": {},
   "source": [
    "## 2.4 The ROOT Command Line"
   ]
  },
  {
   "cell_type": "markdown",
   "metadata": {},
   "source": [
    "* `.?` : List all the Cling commands\n",
    "* `.L <filename>` : load filename\n",
    "* `.x <filename>` : load & execute filename"
   ]
  },
  {
   "cell_type": "code",
   "execution_count": 9,
   "metadata": {},
   "outputs": [
    {
     "name": "stdout",
     "output_type": "stream",
     "text": [
      "README.md\n",
      "ROOT Tutorial1.ipynb\n",
      "c1.C\n",
      "c1.png\n",
      "hbookconverted.root\n"
     ]
    }
   ],
   "source": [
    ".! ls"
   ]
  },
  {
   "cell_type": "markdown",
   "metadata": {},
   "source": [
    "## 2.5.1 Coding Conventions"
   ]
  },
  {
   "cell_type": "markdown",
   "metadata": {},
   "source": [
    "* Classes begin with `T`: `TLine`, `TTree`\n",
    "\n",
    "* Non-class types end with `_t`: `Int_t`\n",
    "\n",
    "* Data members begin with `f`: `fTree`\n",
    "\n",
    "* Member functions begin with a capital: `Loop()`\n",
    "\n",
    "* Constants begin with `k`: `kInitialSize`, `kRed`\n",
    "\n",
    "* Global variables begin with `g`: `gEnv`\n",
    "\n",
    "* Static data members begin with `fg`: `fgTokenClient`\n",
    "\n",
    "* Enumeration types begin with `E`: `EColorLevel`\n",
    "\n",
    "* Locals and parameters begin with a lower case: `nbytes`\n",
    "\n",
    "* Getters and setters begin with `Get` and `Set`: `SetLast()`, `GetFirst()`\n"
   ]
  },
  {
   "cell_type": "markdown",
   "metadata": {},
   "source": [
    "## 2.5.2 Machine Independent Types"
   ]
  },
  {
   "cell_type": "markdown",
   "metadata": {},
   "source": [
    "```\n",
    "*    Char_t      Signed Character 1 byte\n",
    "*    UChar_t     Unsigned Character 1 byte\n",
    "*    Short_t     Signed Short integer 2 bytes\n",
    "*    UShort_t    Unsigned Short integer 2 bytes\n",
    "*    Int_t       Signed integer 4 bytes\n",
    "*    UInt_t      Unsigned integer 4 bytes\n",
    "*    Long64_t    Portable signed long integer 8 bytes\n",
    "*    ULong64_t   Portable unsigned long integer 8 bytes\n",
    "*    Float_t     Float 4 bytes\n",
    "*    Double_t    Float 8 bytes\n",
    "*    Double32_t  Double 8 bytes in memory, written as a Float 4 bytes\n",
    "*    Bool_t      Boolean (0=false, 1=true)\n",
    "```"
   ]
  },
  {
   "cell_type": "markdown",
   "metadata": {},
   "source": [
    "## 2.5.3 TObject"
   ]
  },
  {
   "cell_type": "markdown",
   "metadata": {},
   "source": [
    "```\n",
    "*    Object I/O           Read(), Write()\n",
    "*    Error handling       Warning(), Error(), SysError(), Fatal()\n",
    "*    Sorting              IsSortable(), Compare(), IsEqual(), Hash()\n",
    "*    Inspection           Dump(), Inspect()\n",
    "*    Printing             Print()\n",
    "*    Drawing              Draw(), Paint(), ExecuteEvent()\n",
    "*    Bit handling         SetBit(), TestBit()\n",
    "*    Memory allocation    operatornew and delete, IsOnHeap()\n",
    "*    Access to meta data  IsA(), InheritsFrom()\n",
    "*    Object browsing      Browse(), IsFolder()\n",
    "```"
   ]
  },
  {
   "cell_type": "markdown",
   "metadata": {},
   "source": [
    "# 2.7 Environment Setup"
   ]
  },
  {
   "cell_type": "code",
   "execution_count": 10,
   "metadata": {},
   "outputs": [
    {
     "name": "stdout",
     "output_type": "stream",
     "text": [
      "Unix.*.Root.UseTTFonts:   true                           [Global]\n",
      "WinNT.UseNetAPI:          true                           [Global]\n",
      "Unix.*.Root.UseThreads:   false                          [Global]\n",
      "Root.CompressionAlgorithm: 0                              [Global]\n",
      "Root.ShowPath:            false                          [Global]\n",
      "Root.TMemStat:            0                              [Global]\n",
      "Root.TMemStat.buffersize: 100000                         [Global]\n",
      "Root.TMemStat.maxcalls:   5000000                        [Global]\n",
      "Root.TMemStat.system:                                    [Global]\n",
      "Root.MemStat:             0                              [Global]\n",
      "Root.MemStat.size:        -1                             [Global]\n",
      "Root.MemStat.cnt:         -1                             [Global]\n",
      "Root.ObjectStat:          0                              [Global]\n",
      "Root.MemCheck:            0                              [Global]\n",
      "Root.MemCheckFile:        memcheck.out                   [Global]\n",
      "Root.Debug:               0                              [Global]\n",
      "Root.ErrorHandlers:       1                              [Global]\n",
      "Root.Stacktrace:          yes                            [Global]\n",
      "Root.ErrorIgnoreLevel:    Print                          [Global]\n",
      "X11.Sync:                 no                             [Global]\n",
      "X11.FindBestVisual:       yes                            [Global]\n",
      "X11.UseXft:               no                             [Global]\n",
      "X11.XInitThread:          yes                            [Global]\n",
      "Cocoa.EnableAntiAliasing: yes                            [Global]\n",
      "Cocoa.EnableFillAreaAntiAliasing: no                             [Global]\n",
      "Win32.UseSysPointers:     no                             [Global]\n",
      "Unix.*.Editor:            vi                             [Global]\n",
      "WinNT.*.Editor:           notepad                        [Global]\n",
      "Root.Fitter:              Minuit                         [Global]\n",
      "Canvas.MoveOpaque:        true                           [Global]\n",
      "Canvas.ResizeOpaque:      true                           [Global]\n",
      "Canvas.ShowGuideLines:    true                           [Global]\n",
      "Canvas.UseScreenFactor:   false                          [Global]\n",
      "Canvas.HighLightColor:    2                              [Global]\n",
      "Canvas.ShowEventStatus:   false                          [Global]\n",
      "Canvas.ShowToolTips:      false                          [Global]\n",
      "Canvas.ShowToolBar:       false                          [Global]\n",
      "Canvas.ShowEditor:        false                          [Global]\n",
      "Canvas.AutoExec:          true                           [Global]\n",
      "Canvas.PrintDirectory:    .                              [Global]\n",
      "Canvas.SavePrecision:     7                              [Global]\n",
      "Canvas.Style:             Modern                         [Global]\n",
      "Canvas.SaveAsDefaultType: pdf                            [Global]\n",
      "Hist.Binning.1D.x:        100                            [Global]\n",
      "Hist.Binning.2D.x:        40                             [Global]\n",
      "Hist.Binning.2D.y:        40                             [Global]\n",
      "Hist.Binning.2D.Prof:     100                            [Global]\n",
      "Hist.Binning.3D.x:        20                             [Global]\n",
      "Hist.Binning.3D.y:        20                             [Global]\n",
      "Hist.Binning.3D.z:        20                             [Global]\n",
      "Hist.Binning.3D.Profx:    100                            [Global]\n",
      "Hist.Binning.3D.Profy:    100                            [Global]\n",
      "Hist.Precision.1D:        float                          [Global]\n",
      "Hist.Precision.2D:        float                          [Global]\n",
      "Hist.Precision.3D:        float                          [Global]\n",
      "Hist.Stats.Entries:       Entries                        [Global]\n",
      "Hist.Stats.Mean:          Mean                           [Global]\n",
      "Hist.Stats.MeanX:         Mean x                         [Global]\n",
      "Hist.Stats.MeanY:         Mean y                         [Global]\n",
      "Hist.Stats.MeanZ:         Mean z                         [Global]\n",
      "Hist.Stats.StdDev:        Std Dev                        [Global]\n",
      "Hist.Stats.StdDevX:       Std Dev x                      [Global]\n",
      "Hist.Stats.StdDevY:       Std Dev y                      [Global]\n",
      "Hist.Stats.StdDevZ:       Std Dev z                      [Global]\n",
      "Hist.Stats.Underflow:     Underflow                      [Global]\n",
      "Hist.Stats.Overflow:      Overflow                       [Global]\n",
      "Hist.Stats.Integral:      Integral                       [Global]\n",
      "Hist.Stats.IntegralBinWidth: Integral(w)                    [Global]\n",
      "Hist.Stats.Skewness:      Skewness                       [Global]\n",
      "Hist.Stats.SkewnessX:     Skewness x                     [Global]\n",
      "Hist.Stats.SkewnessY:     Skewness y                     [Global]\n",
      "Hist.Stats.SkewnessZ:     Skewness z                     [Global]\n",
      "Hist.Stats.Kurtosis:      Kurtosis                       [Global]\n",
      "Hist.Stats.KurtosisX:     Kurtosis x                     [Global]\n",
      "Hist.Stats.KurtosisY:     Kurtosis y                     [Global]\n",
      "Hist.Stats.KurtosisZ:     Kurtosis z                     [Global]\n",
      "Root.Html.SourceDir:      .                              [Global]\n",
      "Root.Html.Root:           http://root.cern.ch/root/html  [Global]\n",
      "Root.Html.ViewCVS:        http://root.cern.ch/viewcvs/trunk/%f?view=log [Global]\n",
      "Root.Html.Search:         http://www.google.com/search?q=%s+site%3A%u+-site%3A%u%2Fsrc%2F+-site%3A%u%2Fexamples%2F [Global]\n",
      "Gui.Backend:              native                         [Global]\n",
      "Gui.Factory:              native                         [Global]\n",
      "Gui.Style:                modern-flat                    [Global]\n",
      "Gui.DefaultFont:          -*-helvetica-medium-r-*-*-12-*-*-*-*-*-iso8859-1 [Global]\n",
      "Gui.MenuFont:             -*-helvetica-medium-r-*-*-12-*-*-*-*-*-iso8859-1 [Global]\n",
      "Gui.MenuHiFont:           -*-helvetica-bold-r-*-*-12-*-*-*-*-*-iso8859-1 [Global]\n",
      "Gui.DocFixedFont:         -*-courier-medium-r-*-*-12-*-*-*-*-*-iso8859-1 [Global]\n",
      "Gui.DocPropFont:          -*-helvetica-medium-r-*-*-12-*-*-*-*-*-iso8859-1 [Global]\n",
      "Gui.IconFont:             -*-helvetica-medium-r-*-*-10-*-*-*-*-*-iso8859-1 [Global]\n",
      "Gui.StatusFont:           -*-helvetica-medium-r-*-*-10-*-*-*-*-*-iso8859-1 [Global]\n",
      "Gui.BackgroundColor:      #e8e8e8                        [Global]\n",
      "Gui.ForegroundColor:      black                          [Global]\n",
      "Gui.HighLightColor:       #d0d0d0                        [Global]\n",
      "Gui.SelectBackgroundColor: #d0d0d0                        [Global]\n",
      "Gui.SelectForegroundColor: black                          [Global]\n",
      "Gui.DocumentBackgroundColor: white                          [Global]\n",
      "Gui.DocumentForegroundColor: black                          [Global]\n",
      "Gui.TooltipBackgroundColor: LightYellow                    [Global]\n",
      "Gui.TooltipForegroundColor: black                          [Global]\n",
      "Gui.MimeTypeFile:         /home/rakhan/.root.mimes       [Global]\n",
      "Browser.Name:             TRootBrowser                   [Global]\n",
      "Browser.Options:          FCEI                           [Global]\n",
      "Browser.IconStyle:        small                          [Global]\n",
      "Browser.SortBy:           name                           [Global]\n",
      "Browser.GroupView:        10000                          [Global]\n",
      "Browser.ShowHidden:       no                             [Global]\n",
      "Browser.AutoThumbnail:    yes                            [Global]\n",
      "Browser.ExpandDirectories: yes                            [Global]\n",
      "Browser.StartUrl:         http://root.cern.ch/root/html/ClassIndex.html [Global]\n",
      "WebGui.HttpPort:          0                              [Global]\n",
      "WebGui.HttpPortMin:       8800                           [Global]\n",
      "WebGui.HttpPortMax:       9800                           [Global]\n",
      "WebGui.HttpBind:                                         [Global]\n",
      "WebGui.HttpLoopback:      no                             [Global]\n",
      "WebGui.UseHttps:          no                             [Global]\n",
      "WebGui.ServerCert:        rootserver.pem                 [Global]\n",
      "WebGui.WaitForTmout:      100.0                          [Global]\n",
      "WebGui.Chrome:                                           [Global]\n",
      "WebGui.Firefox:                                          [Global]\n",
      "WebGui.HeadlessPort:      9222                           [Global]\n",
      "OpenGL.EventHandler.ViewerCentricControls: no                             [Global]\n",
      "OpenGL.EventHandler.ArrowKeyFactor: 1.0                            [Global]\n",
      "OpenGL.EventHandler.MouseDragFactor: 1.0                            [Global]\n",
      "OpenGL.EventHandler.MouseWheelFactor: 1.0                            [Global]\n",
      "OpenGL.PickingRadius:     3.0                            [Global]\n",
      "OpenGL.PointLineScalingFactor: \"native\"                       [Global]\n",
      "OpenGL.WireframeLineScalingFactor: 1.0                            [Global]\n",
      "OpenGL.OutlineLineScalingFactor: 1.0                            [Global]\n",
      "OpenGL.SavePicturesViaFBO: yes                            [Global]\n",
      "OpenGL.SavePictureFallbackToBB: yes                            [Global]\n",
      "OpenGL.Framebuffer.Multisample: 0                              [Global]\n",
      "OpenGL.CanvasPreferGL:    0                              [Global]\n",
      "OpenGL.UseDisplayLists:   1                              [Global]\n",
      "OpenGL.UseDisplayListsForVertexArrays: 1                              [Global]\n",
      "Eve.Viewer.HideMenus:     1                              [Global]\n",
      "Rint.Load:                rootalias.C                    [Global]\n",
      "Rint.Logon:               rootlogon.C                    [Global]\n",
      "Rint.Logoff:              rootlogoff.C                   [Global]\n",
      "Rint.History:             /home/rakhan/.root_hist        [Global]\n",
      "Rint.Includes:            1                              [Global]\n",
      "ACLiC.Linkdef:            _linkdef                       [Global]\n",
      "Proofd.SendSRPPwd:        0                              [Global]\n",
      "ProofServ.UseSSH:         0                              [Global]\n",
      "UsrPwd.ReUse:             yes                            [Global]\n",
      "SRP.ReUse:                no                             [Global]\n",
      "Krb5.ReUse:               no                             [Global]\n",
      "Globus.ReUse:             yes                            [Global]\n",
      "SSH.ReUse:                yes                            [Global]\n",
      "UsrPwd.Crypt:             yes                            [Global]\n",
      "Globus.ProxyDuration:     default                        [Global]\n",
      "Globus.ProxyKeyBits:      1024                           [Global]\n",
      "SSH.ErrorRetry:           \"Connection closed by remote host\" [Global]\n",
      "SSH.MaxRetry:             100                            [Global]\n",
      "RSA.KeyType:              1                              [Global]\n",
      "TFile.CrossProtocolRedirects: yes                            [Global]\n",
      "TS3WebFile.Root.MultiRangeServer: Huawei OBS                     [Global]\n",
      "Url.Special:              file: rfio: hpss: castor: gfal: dcache: /alien/- /castor/ [Global]\n",
      "XNet.ReadAheadSize:       0                              [Global]\n",
      "XNet.ReadCacheSize:       10000000                       [Global]\n",
      "XNet.ParStreamsPerPhyConn: 0                              [Global]\n",
      "XNet.UseOldClient:        no                             [Global]\n",
      "NetXNG.QueryReadVParams:  $(ROOT_XRD_QUERY_READV_PARAMS) [Global]\n",
      "Davix.UseOldClient:       yes                            [Global]\n",
      "Rint.Canvas.HighLightColor: 5                              [Global]\n"
     ]
    }
   ],
   "source": [
    "gEnv->Print()"
   ]
  },
  {
   "cell_type": "markdown",
   "metadata": {},
   "source": [
    "## 2.7.3 Tracking Memory Leaks"
   ]
  },
  {
   "cell_type": "code",
   "execution_count": 11,
   "metadata": {},
   "outputs": [
    {
     "name": "stdout",
     "output_type": "stream",
     "text": [
      "\n",
      "Object statistics\n",
      "class                         cnt    on heap     size    total size    heap size\n",
      "================================================================================\n",
      "TList                         146        146      104         15184        15184\n",
      "TObjectTable                    1          1       32            32           32\n",
      "TROOT                           1          0      704           704            0\n",
      "TPluginManager                  1          1       40            40           40\n",
      "THashTable                      1          1       72            72           72\n",
      "THashList                       1          1      112           112          112\n",
      "TEnv                            1          1       56            56           56\n",
      "TEnvRec                       164        164       96         15744        15744\n",
      "TUnixSystem                     1          1      648           648          648\n",
      "TOrdCollection                  5          5       72           360          360\n",
      "--------------------------------------------------------------------------------\n",
      "Total:                        322        321     1936         32952        32248\n",
      "================================================================================\n",
      "\n"
     ]
    }
   ],
   "source": [
    "gObjectTable->Print();"
   ]
  },
  {
   "cell_type": "markdown",
   "metadata": {},
   "source": [
    "## 3.2 Creating Histograms"
   ]
  },
  {
   "cell_type": "code",
   "execution_count": 12,
   "metadata": {},
   "outputs": [],
   "source": [
    "TH1* h1 = new TH1I(\"h1\", \"h1 title\", 100, -4.0, 4.0);\n",
    "TH2* h2 = new TH2F(\"h2\", \"h2 title\", 40, 0.0, 2.0, 30, -1.5, 3.5);\n",
    "TH3* h3 = new TH3D(\"h3\", \"h3 title\", 80, 0.0, 1.0, 100, -2.0, 2.0, 50, 0.0, 3.0);\n",
    "\n",
    "TH1* hc = (TH1*)h1->Clone();\n",
    "\n",
    "TH1* hx = h2->ProjectionX();\n",
    "TH1* hy = h2->ProjectionY();"
   ]
  },
  {
   "cell_type": "code",
   "execution_count": 13,
   "metadata": {},
   "outputs": [
    {
     "name": "stderr",
     "output_type": "stream",
     "text": [
      "Warning in <TROOT::Append>: Replacing existing TH1: h2 (Potential memory leak).\n"
     ]
    }
   ],
   "source": [
    "TH2* h = new TH2D(\n",
    "    /* name  */ \"h2\",\n",
    "    /* title */ \"Hist with constant bin width\",\n",
    "    /* X-dim */ 100, 0.0, 4.0,\n",
    "    /* Y-dim */ 200, -3.0, 1.5\n",
    ");"
   ]
  },
  {
   "cell_type": "code",
   "execution_count": 14,
   "metadata": {},
   "outputs": [
    {
     "name": "stderr",
     "output_type": "stream",
     "text": [
      "Warning in <TROOT::Append>: Replacing existing TH1: h1 (Potential memory leak).\n",
      "Warning in <TROOT::Append>: Replacing existing TH1: h1 (Potential memory leak).\n"
     ]
    }
   ],
   "source": [
    "const Int_t NBINS = 5;\n",
    "Double_t edges[NBINS + 1] = {0.0, 0.2, 0.3, 0.6, 0.8, 1.0};\n",
    "\n",
    "TH1* h1_1 = new TH1D(\n",
    "    \"h1\",\n",
    "    \"Hist with variable bin width\",\n",
    "    NBINS,\n",
    "    edges\n",
    ");"
   ]
  },
  {
   "cell_type": "code",
   "execution_count": 15,
   "metadata": {},
   "outputs": [],
   "source": [
    "h1->FillRandom(\"gaus\", 10000);"
   ]
  },
  {
   "cell_type": "code",
   "execution_count": 16,
   "metadata": {},
   "outputs": [],
   "source": [
    "TCanvas *tC = new TCanvas(\"tC\", \"test\", 1);"
   ]
  },
  {
   "cell_type": "code",
   "execution_count": 17,
   "metadata": {},
   "outputs": [
    {
     "data": {
      "image/png": "[encoded data removed]",
      "text/plain": [
       "<IPython.core.display.Image object>"
      ]
     },
     "metadata": {},
     "output_type": "display_data"
    }
   ],
   "source": [
    "tC->cd(1);\n",
    "h1->Draw();\n",
    "tC->Draw();"
   ]
  },
  {
   "cell_type": "code",
   "execution_count": 18,
   "metadata": {},
   "outputs": [],
   "source": [
    "h1->GetXaxis()->SetTitle(\"X axis\");\n",
    "h1->GetYaxis()->SetTitle(\"Y axis\");"
   ]
  },
  {
   "cell_type": "code",
   "execution_count": 19,
   "metadata": {},
   "outputs": [
    {
     "data": {
      "image/png": "[encoded data removed]",
      "text/plain": [
       "<IPython.core.display.Image object>"
      ]
     },
     "metadata": {},
     "output_type": "display_data"
    }
   ],
   "source": [
    "tC->cd(1);\n",
    "h1->Draw();\n",
    "tC->Draw();"
   ]
  },
  {
   "cell_type": "markdown",
   "metadata": {},
   "source": [
    "## 3.10 Normalizing Histograms"
   ]
  },
  {
   "cell_type": "code",
   "execution_count": 20,
   "metadata": {},
   "outputs": [],
   "source": [
    "Double_t scale = 1.0/h1->Integral();\n",
    "h1->Scale(scale);"
   ]
  },
  {
   "cell_type": "code",
   "execution_count": 21,
   "metadata": {},
   "outputs": [
    {
     "data": {
      "image/png": "[encoded data removed]",
      "text/plain": [
       "<IPython.core.display.Image object>"
      ]
     },
     "metadata": {},
     "output_type": "display_data"
    }
   ],
   "source": [
    "tC->cd(1);\n",
    "h1->Draw();\n",
    "tC->Draw();"
   ]
  },
  {
   "cell_type": "markdown",
   "metadata": {},
   "source": [
    "## 3.18 3D Implicit Functions"
   ]
  },
  {
   "cell_type": "code",
   "execution_count": 22,
   "metadata": {},
   "outputs": [],
   "source": [
    "TF3 *fun3 = new TF3(\"fun3\", \"sin(x*x + y*y + z*z - 36)\", -2,2, -2,2, -2,2);"
   ]
  },
  {
   "cell_type": "code",
   "execution_count": 23,
   "metadata": {},
   "outputs": [
    {
     "data": {
      "image/png": "[encoded data removed]",
      "text/plain": [
       "<IPython.core.display.Image object>"
      ]
     },
     "metadata": {},
     "output_type": "display_data"
    }
   ],
   "source": [
    "tC->cd(1);\n",
    "fun3->Draw();\n",
    "tC->Draw();"
   ]
  },
  {
   "cell_type": "markdown",
   "metadata": {},
   "source": [
    "# 4 Graphs"
   ]
  },
  {
   "cell_type": "markdown",
   "metadata": {},
   "source": [
    "## 4.1 TGraph"
   ]
  },
  {
   "cell_type": "code",
   "execution_count": 24,
   "metadata": {},
   "outputs": [],
   "source": [
    "const Int_t n = 20;"
   ]
  },
  {
   "cell_type": "code",
   "execution_count": 25,
   "metadata": {},
   "outputs": [],
   "source": [
    "Double_t x[n], y[n];"
   ]
  },
  {
   "cell_type": "code",
   "execution_count": 26,
   "metadata": {},
   "outputs": [],
   "source": [
    "for (Int_t i=0; i<n; i++) {\n",
    "    x[i] = i*0.1;\n",
    "    y[i] = 10*sin(x[i] + 0.2);\n",
    "}"
   ]
  },
  {
   "cell_type": "code",
   "execution_count": 27,
   "metadata": {},
   "outputs": [],
   "source": [
    "TGraph *gr1 = new TGraph(n, x, y);"
   ]
  },
  {
   "cell_type": "code",
   "execution_count": 28,
   "metadata": {},
   "outputs": [
    {
     "data": {
      "image/png": "[encoded data removed]",
      "text/plain": [
       "<IPython.core.display.Image object>"
      ]
     },
     "metadata": {},
     "output_type": "display_data"
    }
   ],
   "source": [
    "tC->cd(1);\n",
    "gr1->Draw();\n",
    "tC->Draw();"
   ]
  },
  {
   "cell_type": "code",
   "execution_count": 29,
   "metadata": {},
   "outputs": [
    {
     "data": {
      "image/png": "[encoded data removed]",
      "text/plain": [
       "<IPython.core.display.Image object>"
      ]
     },
     "metadata": {},
     "output_type": "display_data"
    }
   ],
   "source": [
    "const Int_t n2 = 100;\n",
    "Double_t xg1[n2], yg1[n2], xg2[n2], yg2[n2];\n",
    "\n",
    "for (Int_t i=0; i<n2; i++) {\n",
    "    xg1[i] = 0.1*i;\n",
    "    xg2[i] = 0.1*i;\n",
    "    \n",
    "    yg1[i] = sin(xg1[i]);\n",
    "    yg2[i] = cos(xg2[i]);\n",
    "}\n",
    "\n",
    "TGraph *g1 = new TGraph(n2,xg1,yg1);\n",
    "TGraph *g2 = new TGraph(n2,xg2,yg2);\n",
    "\n",
    "tC->cd(1);\n",
    "tC->SetGrid();\n",
    "g1->Draw(\"AC\");\n",
    "g2->Draw(\"CP\");\n",
    "tC->Draw();"
   ]
  },
  {
   "cell_type": "code",
   "execution_count": null,
   "metadata": {},
   "outputs": [],
   "source": []
  }
 ],
 "metadata": {
  "@webio": {
   "lastCommId": null,
   "lastKernelId": null
  },
  "kernelspec": {
   "display_name": "ROOT C++",
   "language": "c++",
   "name": "root"
  },
  "language_info": {
   "codemirror_mode": "text/x-c++src",
   "file_extension": ".C",
   "mimetype": " text/x-c++src",
   "name": "c++"
  }
 },
 "nbformat": 4,
 "nbformat_minor": 2
}
