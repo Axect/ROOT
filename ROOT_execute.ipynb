{
 "cells": [
  {
   "cell_type": "code",
   "execution_count": 1,
   "metadata": {},
   "outputs": [],
   "source": [
    ".x graph.c"
   ]
  },
  {
   "cell_type": "code",
   "execution_count": 2,
   "metadata": {},
   "outputs": [],
   "source": [
    "gROOT->Reset();"
   ]
  },
  {
   "cell_type": "code",
   "execution_count": 3,
   "metadata": {},
   "outputs": [
    {
     "name": "stdout",
     "output_type": "stream",
     "text": [
      "vec 1.59001e+09\n",
      "vec 4.95474e+08\n",
      "vec 2.06037e+09\n",
      "vec 1.21911e+09\n",
      "vec 1.99343e+09\n",
      "vec 1.47497e+09\n",
      "vec 1.76088e+09\n",
      "vec 4.08159e+07\n",
      "vec 6.4015e+08\n",
      "vec 8.40513e+08\n",
      "4.08159e+07\n"
     ]
    }
   ],
   "source": [
    ".x fill_and_min_vec.cpp"
   ]
  },
  {
   "cell_type": "code",
   "execution_count": null,
   "metadata": {},
   "outputs": [],
   "source": []
  }
 ],
 "metadata": {
  "kernelspec": {
   "display_name": "ROOT C++",
   "language": "c++",
   "name": "root"
  },
  "language_info": {
   "codemirror_mode": "text/x-c++src",
   "file_extension": ".C",
   "mimetype": " text/x-c++src",
   "name": "c++"
  }
 },
 "nbformat": 4,
 "nbformat_minor": 2
}
