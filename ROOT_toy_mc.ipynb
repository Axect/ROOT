{
 "cells": [
  {
   "cell_type": "code",
   "execution_count": 1,
   "metadata": {},
   "outputs": [],
   "source": [
    "void pull(const Int_t n_toys = 10000, const Int_t n_tot_entries = 100, const Int_t nbins = 40, bool do_chi2 = true) {\n",
    "    TString method_prefix(\"Log-Likelihood \");\n",
    "    if (do_chi2)\n",
    "        method_prefix=\"#chi^{2} \";\n",
    "    \n",
    "    TH1F *h4 = new TH1F(method_prefix+\"h4\", method_prefix+\" Random Gauss\", nbins, -4, 4);\n",
    "    \n",
    "    h4->SetMarkerStyle(21);\n",
    "    h4->SetMarkerSize(0.8);\n",
    "    h4->SetMarkerColor(kRed);\n",
    "    \n",
    "    TH1F *sigma = new TH1F(method_prefix+\"sigma\",\n",
    "                          method_prefix+\"sigma from gaus fit\", 50, 0.5, 1.5);\n",
    "    TH1F *pull = new TH1F(method_prefix+\"pull\",\n",
    "                         method_prefix+\"pull from gaus fit\", 50, -4., 4.);\n",
    "    \n",
    "    TCanvas *c0 = new TCanvas(method_prefix+\"Gauss\",\n",
    "                             method_prefix+\"Gauss\",0,0,320,240);\n",
    "    \n",
    "    c0->SetGrid();\n",
    "    \n",
    "    TCanvas *c1 = new TCanvas(method_prefix+\"Result\",\n",
    "                             method_prefix+\"Sigma-Distribution\",0,300,600,400);\n",
    "    c0->cd();\n",
    "    \n",
    "    Float_t sig, mean;\n",
    "    for (Int_t i = 0; i<n_toys; ++i) {\n",
    "        h4->Reset();\n",
    "        for (Int_t j=0; j<n_tot_entries; ++j)\n",
    "            h4->Fill(gRandom->Gaus());\n",
    "        if (do_chi2) h4->Fit(\"gaus\", \"q\");\n",
    "        else h4->Fit(\"gaus\", \"lq\");\n",
    "        \n",
    "        if (!(i%100)) {\n",
    "            h4->Draw(\"ep\");\n",
    "            c0->Update();\n",
    "        }\n",
    "        \n",
    "        TF1 *fit = h4->GetFunction(\"gaus\");\n",
    "        sig = fit->GetParameter(2);\n",
    "        mean= fit->GetParameter(1);\n",
    "        sigma->Fill(sig);\n",
    "        pull->Fill(mean/sig * sqrt(n_tot_entries));\n",
    "    }\n",
    "    c1->cd();\n",
    "    pull->Draw();\n",
    "    c1->Draw();\n",
    "}"
   ]
  },
  {
   "cell_type": "code",
   "execution_count": 2,
   "metadata": {},
   "outputs": [],
   "source": [
    "void macro9() {\n",
    "    cout << \"Performing pull expermient with chi2\" << endl;\n",
    "    pull(10000, 100, 40, true);\n",
    "    cout << \"Performing pull experiment with Log Likelihood\" << endl;\n",
    "    pull(10000, 100, 40, false);\n",
    "}"
   ]
  },
  {
   "cell_type": "code",
   "execution_count": 3,
   "metadata": {},
   "outputs": [
    {
     "name": "stdout",
     "output_type": "stream",
     "text": [
      "Performing pull expermient with chi2\n",
      "Performing pull experiment with Log Likelihood\n"
     ]
    },
    {
     "data": {
      "image/png": "[encoded data removed]",
      "text/plain": [
       "<IPython.core.display.Image object>"
      ]
     },
     "metadata": {},
     "output_type": "display_data"
    },
    {
     "data": {
      "image/png": "[encoded data removed]",
      "text/plain": [
       "<IPython.core.display.Image object>"
      ]
     },
     "metadata": {},
     "output_type": "display_data"
    }
   ],
   "source": [
    "macro9()"
   ]
  },
  {
   "cell_type": "code",
   "execution_count": null,
   "metadata": {},
   "outputs": [],
   "source": []
  }
 ],
 "metadata": {
  "kernelspec": {
   "display_name": "ROOT C++",
   "language": "c++",
   "name": "root"
  },
  "language_info": {
   "codemirror_mode": "text/x-c++src",
   "file_extension": ".C",
   "mimetype": " text/x-c++src",
   "name": "c++"
  }
 },
 "nbformat": 4,
 "nbformat_minor": 2
}
